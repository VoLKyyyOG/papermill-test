{
 "cells": [
  {
   "cell_type": "markdown",
   "metadata": {},
   "source": [
    "## List of all Magic Cells"
   ]
  },
  {
   "cell_type": "code",
   "execution_count": 2,
   "metadata": {
    "ExecuteTime": {
     "end_time": "2020-02-21T02:20:05.196272Z",
     "start_time": "2020-02-21T02:20:05.191263Z"
    }
   },
   "outputs": [
    {
     "data": {
      "application/json": {
       "cell": {
        "!": "OSMagics",
        "HTML": "Other",
        "SVG": "Other",
        "bash": "Other",
        "capture": "ExecutionMagics",
        "cmd": "Other",
        "debug": "ExecutionMagics",
        "file": "Other",
        "html": "DisplayMagics",
        "javascript": "DisplayMagics",
        "js": "DisplayMagics",
        "latex": "DisplayMagics",
        "markdown": "DisplayMagics",
        "perl": "Other",
        "prun": "ExecutionMagics",
        "pypy": "Other",
        "python": "Other",
        "python2": "Other",
        "python3": "Other",
        "ruby": "Other",
        "script": "ScriptMagics",
        "sh": "Other",
        "sql": "SqlMagic",
        "svg": "DisplayMagics",
        "sx": "OSMagics",
        "system": "OSMagics",
        "time": "ExecutionMagics",
        "timeit": "ExecutionMagics",
        "writefile": "OSMagics"
       },
       "line": {
        "alias": "OSMagics",
        "alias_magic": "BasicMagics",
        "autoawait": "AsyncMagics",
        "autocall": "AutoMagics",
        "automagic": "AutoMagics",
        "autosave": "KernelMagics",
        "bookmark": "OSMagics",
        "cd": "OSMagics",
        "clear": "KernelMagics",
        "cls": "KernelMagics",
        "colors": "BasicMagics",
        "conda": "PackagingMagics",
        "config": "ConfigMagics",
        "connect_info": "KernelMagics",
        "copy": "Other",
        "ddir": "Other",
        "debug": "ExecutionMagics",
        "dhist": "OSMagics",
        "dirs": "OSMagics",
        "doctest_mode": "BasicMagics",
        "echo": "Other",
        "ed": "Other",
        "edit": "KernelMagics",
        "env": "OSMagics",
        "gui": "BasicMagics",
        "hist": "Other",
        "history": "HistoryMagics",
        "killbgscripts": "ScriptMagics",
        "ldir": "Other",
        "less": "KernelMagics",
        "load": "CodeMagics",
        "load_ext": "ExtensionMagics",
        "loadpy": "CodeMagics",
        "logoff": "LoggingMagics",
        "logon": "LoggingMagics",
        "logstart": "LoggingMagics",
        "logstate": "LoggingMagics",
        "logstop": "LoggingMagics",
        "ls": "Other",
        "lsmagic": "BasicMagics",
        "macro": "ExecutionMagics",
        "magic": "BasicMagics",
        "matplotlib": "PylabMagics",
        "mkdir": "Other",
        "more": "KernelMagics",
        "notebook": "BasicMagics",
        "page": "BasicMagics",
        "pastebin": "CodeMagics",
        "pdb": "ExecutionMagics",
        "pdef": "NamespaceMagics",
        "pdoc": "NamespaceMagics",
        "pfile": "NamespaceMagics",
        "pinfo": "NamespaceMagics",
        "pinfo2": "NamespaceMagics",
        "pip": "PackagingMagics",
        "popd": "OSMagics",
        "pprint": "BasicMagics",
        "precision": "BasicMagics",
        "prun": "ExecutionMagics",
        "psearch": "NamespaceMagics",
        "psource": "NamespaceMagics",
        "pushd": "OSMagics",
        "pwd": "OSMagics",
        "pycat": "OSMagics",
        "pylab": "PylabMagics",
        "qtconsole": "KernelMagics",
        "quickref": "BasicMagics",
        "recall": "HistoryMagics",
        "rehashx": "OSMagics",
        "reload_ext": "ExtensionMagics",
        "ren": "Other",
        "rep": "Other",
        "rerun": "HistoryMagics",
        "reset": "NamespaceMagics",
        "reset_selective": "NamespaceMagics",
        "rmdir": "Other",
        "run": "ExecutionMagics",
        "save": "CodeMagics",
        "sc": "OSMagics",
        "set_env": "OSMagics",
        "sql": "SqlMagic",
        "store": "StoreMagics",
        "sx": "OSMagics",
        "system": "OSMagics",
        "tb": "ExecutionMagics",
        "time": "ExecutionMagics",
        "timeit": "ExecutionMagics",
        "unalias": "OSMagics",
        "unload_ext": "ExtensionMagics",
        "who": "NamespaceMagics",
        "who_ls": "NamespaceMagics",
        "whos": "NamespaceMagics",
        "xdel": "NamespaceMagics",
        "xmode": "BasicMagics"
       }
      },
      "text/plain": [
       "Available line magics:\n",
       "%alias  %alias_magic  %autoawait  %autocall  %automagic  %autosave  %bookmark  %cd  %clear  %cls  %colors  %conda  %config  %connect_info  %copy  %ddir  %debug  %dhist  %dirs  %doctest_mode  %echo  %ed  %edit  %env  %gui  %hist  %history  %killbgscripts  %ldir  %less  %load  %load_ext  %loadpy  %logoff  %logon  %logstart  %logstate  %logstop  %ls  %lsmagic  %macro  %magic  %matplotlib  %mkdir  %more  %notebook  %page  %pastebin  %pdb  %pdef  %pdoc  %pfile  %pinfo  %pinfo2  %pip  %popd  %pprint  %precision  %prun  %psearch  %psource  %pushd  %pwd  %pycat  %pylab  %qtconsole  %quickref  %recall  %rehashx  %reload_ext  %ren  %rep  %rerun  %reset  %reset_selective  %rmdir  %run  %save  %sc  %set_env  %sql  %store  %sx  %system  %tb  %time  %timeit  %unalias  %unload_ext  %who  %who_ls  %whos  %xdel  %xmode\n",
       "\n",
       "Available cell magics:\n",
       "%%!  %%HTML  %%SVG  %%bash  %%capture  %%cmd  %%debug  %%file  %%html  %%javascript  %%js  %%latex  %%markdown  %%perl  %%prun  %%pypy  %%python  %%python2  %%python3  %%ruby  %%script  %%sh  %%sql  %%svg  %%sx  %%system  %%time  %%timeit  %%writefile\n",
       "\n",
       "Automagic is ON, % prefix IS NOT needed for line magics."
      ]
     },
     "execution_count": 2,
     "metadata": {},
     "output_type": "execute_result"
    }
   ],
   "source": [
    "%lsmagic"
   ]
  },
  {
   "cell_type": "code",
   "execution_count": 3,
   "metadata": {
    "ExecuteTime": {
     "end_time": "2020-02-21T02:20:07.141437Z",
     "start_time": "2020-02-21T02:20:07.135086Z"
    }
   },
   "outputs": [
    {
     "data": {
      "application/javascript": [
       "IPython.notebook.set_autosave_interval(60000)"
      ]
     },
     "metadata": {},
     "output_type": "display_data"
    },
    {
     "name": "stdout",
     "output_type": "stream",
     "text": [
      "Autosaving every 60 seconds\n"
     ]
    }
   ],
   "source": [
    "%autosave 60"
   ]
  },
  {
   "cell_type": "code",
   "execution_count": 4,
   "metadata": {
    "ExecuteTime": {
     "end_time": "2020-02-21T02:20:36.657917Z",
     "start_time": "2020-02-21T02:20:36.273621Z"
    }
   },
   "outputs": [],
   "source": [
    "%matplotlib inline\n",
    "import matplotlib.pyplot as plt"
   ]
  },
  {
   "cell_type": "code",
   "execution_count": 5,
   "metadata": {
    "ExecuteTime": {
     "end_time": "2020-02-21T02:23:40.930924Z",
     "start_time": "2020-02-21T02:23:40.927903Z"
    }
   },
   "outputs": [
    {
     "name": "stdout",
     "output_type": "stream",
     "text": [
      "Hello World!\n"
     ]
    }
   ],
   "source": [
    "# %load hello.py\n",
    "print(\"Hello World!\")"
   ]
  },
  {
   "cell_type": "code",
   "execution_count": 6,
   "metadata": {
    "ExecuteTime": {
     "end_time": "2020-02-21T02:23:35.264358Z",
     "start_time": "2020-02-21T02:23:35.259371Z"
    }
   },
   "outputs": [
    {
     "name": "stdout",
     "output_type": "stream",
     "text": [
      "Hello World!\n"
     ]
    }
   ],
   "source": [
    "%run hello.py"
   ]
  },
  {
   "cell_type": "markdown",
   "metadata": {},
   "source": [
    "## SQL Magic in Cells"
   ]
  },
  {
   "cell_type": "code",
   "execution_count": 1,
   "metadata": {
    "ExecuteTime": {
     "end_time": "2020-02-21T02:41:55.803406Z",
     "start_time": "2020-02-21T02:41:55.797422Z"
    }
   },
   "outputs": [
    {
     "data": {
      "text/plain": [
       "'Connected: @None'"
      ]
     },
     "execution_count": 1,
     "metadata": {},
     "output_type": "execute_result"
    }
   ],
   "source": [
    "%load_ext sql\n",
    "%sql sqlite://"
   ]
  },
  {
   "cell_type": "markdown",
   "metadata": {},
   "source": [
    "Example of creating a table and inserting values"
   ]
  },
  {
   "cell_type": "code",
   "execution_count": 2,
   "metadata": {},
   "outputs": [
    {
     "name": "stdout",
     "output_type": "stream",
     "text": [
      " * sqlite://\n",
      "Done.\n",
      "1 rows affected.\n",
      "1 rows affected.\n",
      "1 rows affected.\n",
      "1 rows affected.\n",
      "1 rows affected.\n",
      "1 rows affected.\n",
      "1 rows affected.\n",
      "1 rows affected.\n",
      "1 rows affected.\n",
      "1 rows affected.\n",
      "1 rows affected.\n",
      "1 rows affected.\n"
     ]
    },
    {
     "data": {
      "text/plain": [
       "[]"
      ]
     },
     "execution_count": 2,
     "metadata": {},
     "output_type": "execute_result"
    }
   ],
   "source": [
    "%%sql\n",
    "CREATE TABLE \"AGENTS\" (\n",
    "    \"AGENT_CODE\" CHAR(6) NOT NULL PRIMARY KEY,\n",
    "    \"AGENT_NAME\" CHAR(40),\n",
    "    \"WORKING_AREA\" CHAR(35),\n",
    "    \"COMMISSION\" NUMBER(10, 2),\n",
    "    \"PHONE_NO\" CHAR(15),\n",
    "    \"COUNTRY\" VARCHAR2(25)\n",
    ");\n",
    "\n",
    "INSERT INTO AGENTS VALUES ('A007', 'Ramasundar', 'Bangalore', '0.15', '077-25814763', 'AUS');\n",
    "INSERT INTO AGENTS VALUES ('A003', 'Alex ', 'London', '0.13', '075-12458969', 'AUS');\n",
    "INSERT INTO AGENTS VALUES ('A008', 'Alford', 'New York', '0.12', '044-25874365', 'JP');\n",
    "INSERT INTO AGENTS VALUES ('A011', 'Ravi Kumar', 'Bangalore', '0.15', '077-45625874', 'JP');\n",
    "INSERT INTO AGENTS VALUES ('A010', 'Santakumar', 'Chennai', '0.14', '007-22388644', 'AUS');\n",
    "INSERT INTO AGENTS VALUES ('A012', 'Lucida', 'San Jose', '0.12', '044-52981425', 'JP');\n",
    "INSERT INTO AGENTS VALUES ('A005', 'Anderson', 'Brisban', '0.13', '045-21447739', 'USA');\n",
    "INSERT INTO AGENTS VALUES ('A001', 'Subbarao', 'Bangalore', '0.14', '077-12346674', 'USA');\n",
    "INSERT INTO AGENTS VALUES ('A002', 'Mukesh', 'Mumbai', '0.11', '029-12358964', 'AUS');\n",
    "INSERT INTO AGENTS VALUES ('A006', 'McDen', 'London', '0.15', '078-22255588', 'USA');\n",
    "INSERT INTO AGENTS VALUES ('A004', 'Ivan', 'Torento', '0.15', '008-22544166', 'AUS');\n",
    "INSERT INTO AGENTS VALUES ('A009', 'Benjamin', 'Hampshair', '0.11', '008-22536178', 'AUS');"
   ]
  },
  {
   "cell_type": "code",
   "execution_count": 3,
   "metadata": {},
   "outputs": [
    {
     "name": "stdout",
     "output_type": "stream",
     "text": [
      " * sqlite://\n",
      "Done.\n"
     ]
    },
    {
     "data": {
      "text/html": [
       "<table>\n",
       "    <tr>\n",
       "        <th>AGENT_CODE</th>\n",
       "        <th>AGENT_NAME</th>\n",
       "        <th>WORKING_AREA</th>\n",
       "        <th>COMMISSION</th>\n",
       "        <th>PHONE_NO</th>\n",
       "        <th>COUNTRY</th>\n",
       "    </tr>\n",
       "    <tr>\n",
       "        <td>A007</td>\n",
       "        <td>Ramasundar</td>\n",
       "        <td>Bangalore</td>\n",
       "        <td>0.15</td>\n",
       "        <td>077-25814763</td>\n",
       "        <td>AUS</td>\n",
       "    </tr>\n",
       "    <tr>\n",
       "        <td>A003</td>\n",
       "        <td>Alex </td>\n",
       "        <td>London</td>\n",
       "        <td>0.13</td>\n",
       "        <td>075-12458969</td>\n",
       "        <td>AUS</td>\n",
       "    </tr>\n",
       "    <tr>\n",
       "        <td>A008</td>\n",
       "        <td>Alford</td>\n",
       "        <td>New York</td>\n",
       "        <td>0.12</td>\n",
       "        <td>044-25874365</td>\n",
       "        <td>JP</td>\n",
       "    </tr>\n",
       "    <tr>\n",
       "        <td>A011</td>\n",
       "        <td>Ravi Kumar</td>\n",
       "        <td>Bangalore</td>\n",
       "        <td>0.15</td>\n",
       "        <td>077-45625874</td>\n",
       "        <td>JP</td>\n",
       "    </tr>\n",
       "    <tr>\n",
       "        <td>A010</td>\n",
       "        <td>Santakumar</td>\n",
       "        <td>Chennai</td>\n",
       "        <td>0.14</td>\n",
       "        <td>007-22388644</td>\n",
       "        <td>AUS</td>\n",
       "    </tr>\n",
       "    <tr>\n",
       "        <td>A012</td>\n",
       "        <td>Lucida</td>\n",
       "        <td>San Jose</td>\n",
       "        <td>0.12</td>\n",
       "        <td>044-52981425</td>\n",
       "        <td>JP</td>\n",
       "    </tr>\n",
       "    <tr>\n",
       "        <td>A005</td>\n",
       "        <td>Anderson</td>\n",
       "        <td>Brisban</td>\n",
       "        <td>0.13</td>\n",
       "        <td>045-21447739</td>\n",
       "        <td>USA</td>\n",
       "    </tr>\n",
       "    <tr>\n",
       "        <td>A001</td>\n",
       "        <td>Subbarao</td>\n",
       "        <td>Bangalore</td>\n",
       "        <td>0.14</td>\n",
       "        <td>077-12346674</td>\n",
       "        <td>USA</td>\n",
       "    </tr>\n",
       "    <tr>\n",
       "        <td>A002</td>\n",
       "        <td>Mukesh</td>\n",
       "        <td>Mumbai</td>\n",
       "        <td>0.11</td>\n",
       "        <td>029-12358964</td>\n",
       "        <td>AUS</td>\n",
       "    </tr>\n",
       "    <tr>\n",
       "        <td>A006</td>\n",
       "        <td>McDen</td>\n",
       "        <td>London</td>\n",
       "        <td>0.15</td>\n",
       "        <td>078-22255588</td>\n",
       "        <td>USA</td>\n",
       "    </tr>\n",
       "    <tr>\n",
       "        <td>A004</td>\n",
       "        <td>Ivan</td>\n",
       "        <td>Torento</td>\n",
       "        <td>0.15</td>\n",
       "        <td>008-22544166</td>\n",
       "        <td>AUS</td>\n",
       "    </tr>\n",
       "    <tr>\n",
       "        <td>A009</td>\n",
       "        <td>Benjamin</td>\n",
       "        <td>Hampshair</td>\n",
       "        <td>0.11</td>\n",
       "        <td>008-22536178</td>\n",
       "        <td>AUS</td>\n",
       "    </tr>\n",
       "</table>"
      ],
      "text/plain": [
       "[('A007', 'Ramasundar', 'Bangalore', 0.15, '077-25814763', 'AUS'),\n",
       " ('A003', 'Alex ', 'London', 0.13, '075-12458969', 'AUS'),\n",
       " ('A008', 'Alford', 'New York', 0.12, '044-25874365', 'JP'),\n",
       " ('A011', 'Ravi Kumar', 'Bangalore', 0.15, '077-45625874', 'JP'),\n",
       " ('A010', 'Santakumar', 'Chennai', 0.14, '007-22388644', 'AUS'),\n",
       " ('A012', 'Lucida', 'San Jose', 0.12, '044-52981425', 'JP'),\n",
       " ('A005', 'Anderson', 'Brisban', 0.13, '045-21447739', 'USA'),\n",
       " ('A001', 'Subbarao', 'Bangalore', 0.14, '077-12346674', 'USA'),\n",
       " ('A002', 'Mukesh', 'Mumbai', 0.11, '029-12358964', 'AUS'),\n",
       " ('A006', 'McDen', 'London', 0.15, '078-22255588', 'USA'),\n",
       " ('A004', 'Ivan', 'Torento', 0.15, '008-22544166', 'AUS'),\n",
       " ('A009', 'Benjamin', 'Hampshair', 0.11, '008-22536178', 'AUS')]"
      ]
     },
     "execution_count": 3,
     "metadata": {},
     "output_type": "execute_result"
    }
   ],
   "source": [
    "%sql SELECT * FROM AGENTS"
   ]
  },
  {
   "cell_type": "code",
   "execution_count": 5,
   "metadata": {},
   "outputs": [
    {
     "name": "stdout",
     "output_type": "stream",
     "text": [
      " * sqlite://\n",
      "Done.\n"
     ]
    },
    {
     "data": {
      "text/html": [
       "<table>\n",
       "    <tr>\n",
       "        <th>AGENT_CODE</th>\n",
       "        <th>AGENT_NAME</th>\n",
       "        <th>WORKING_AREA</th>\n",
       "        <th>COMMISSION</th>\n",
       "        <th>PHONE_NO</th>\n",
       "        <th>COUNTRY</th>\n",
       "    </tr>\n",
       "    <tr>\n",
       "        <td>A008</td>\n",
       "        <td>Alford</td>\n",
       "        <td>New York</td>\n",
       "        <td>0.12</td>\n",
       "        <td>044-25874365</td>\n",
       "        <td>JP</td>\n",
       "    </tr>\n",
       "    <tr>\n",
       "        <td>A012</td>\n",
       "        <td>Lucida</td>\n",
       "        <td>San Jose</td>\n",
       "        <td>0.12</td>\n",
       "        <td>044-52981425</td>\n",
       "        <td>JP</td>\n",
       "    </tr>\n",
       "    <tr>\n",
       "        <td>A002</td>\n",
       "        <td>Mukesh</td>\n",
       "        <td>Mumbai</td>\n",
       "        <td>0.11</td>\n",
       "        <td>029-12358964</td>\n",
       "        <td>AUS</td>\n",
       "    </tr>\n",
       "    <tr>\n",
       "        <td>A009</td>\n",
       "        <td>Benjamin</td>\n",
       "        <td>Hampshair</td>\n",
       "        <td>0.11</td>\n",
       "        <td>008-22536178</td>\n",
       "        <td>AUS</td>\n",
       "    </tr>\n",
       "</table>"
      ],
      "text/plain": [
       "[('A008', 'Alford', 'New York', 0.12, '044-25874365', 'JP'),\n",
       " ('A012', 'Lucida', 'San Jose', 0.12, '044-52981425', 'JP'),\n",
       " ('A002', 'Mukesh', 'Mumbai', 0.11, '029-12358964', 'AUS'),\n",
       " ('A009', 'Benjamin', 'Hampshair', 0.11, '008-22536178', 'AUS')]"
      ]
     },
     "execution_count": 5,
     "metadata": {},
     "output_type": "execute_result"
    }
   ],
   "source": [
    "%%sql\n",
    "SELECT *\n",
    "FROM AGENTS\n",
    "WHERE COMMISSION < 0.13"
   ]
  },
  {
   "cell_type": "markdown",
   "metadata": {},
   "source": [
    "Converting df to sql table"
   ]
  },
  {
   "cell_type": "code",
   "execution_count": 1,
   "metadata": {},
   "outputs": [],
   "source": [
    "import pandas as pd\n",
    "from sqlalchemy import create_engine\n",
    "engine = create_engine('sqlite://', echo=False)\n",
    "\n",
    "df = pd.read_csv(\"./data/StudentsPerformance.csv\")\n",
    "df.to_sql(\"StudentPerformance\", con=engine)"
   ]
  },
  {
   "cell_type": "code",
   "execution_count": 2,
   "metadata": {},
   "outputs": [
    {
     "data": {
      "text/plain": [
       "'Connected: @None'"
      ]
     },
     "execution_count": 2,
     "metadata": {},
     "output_type": "execute_result"
    }
   ],
   "source": [
    "%load_ext sql\n",
    "%sql sqlite://"
   ]
  },
  {
   "cell_type": "code",
   "execution_count": 7,
   "metadata": {},
   "outputs": [
    {
     "data": {
      "text/plain": [
       "Index(['gender', 'race/ethnicity', 'parental level of education', 'lunch',\n",
       "       'test preparation course', 'math score', 'reading score',\n",
       "       'writing score'],\n",
       "      dtype='object')"
      ]
     },
     "execution_count": 7,
     "metadata": {},
     "output_type": "execute_result"
    }
   ],
   "source": [
    "df.columns"
   ]
  },
  {
   "cell_type": "code",
   "execution_count": 18,
   "metadata": {},
   "outputs": [
    {
     "data": {
      "text/html": [
       "<div>\n",
       "<style scoped>\n",
       "    .dataframe tbody tr th:only-of-type {\n",
       "        vertical-align: middle;\n",
       "    }\n",
       "\n",
       "    .dataframe tbody tr th {\n",
       "        vertical-align: top;\n",
       "    }\n",
       "\n",
       "    .dataframe thead th {\n",
       "        text-align: right;\n",
       "    }\n",
       "</style>\n",
       "<table border=\"1\" class=\"dataframe\">\n",
       "  <thead>\n",
       "    <tr style=\"text-align: right;\">\n",
       "      <th></th>\n",
       "      <th>0</th>\n",
       "    </tr>\n",
       "  </thead>\n",
       "  <tbody>\n",
       "    <tr>\n",
       "      <td>0</td>\n",
       "      <td>standard</td>\n",
       "    </tr>\n",
       "    <tr>\n",
       "      <td>1</td>\n",
       "      <td>standard</td>\n",
       "    </tr>\n",
       "    <tr>\n",
       "      <td>2</td>\n",
       "      <td>standard</td>\n",
       "    </tr>\n",
       "    <tr>\n",
       "      <td>3</td>\n",
       "      <td>standard</td>\n",
       "    </tr>\n",
       "    <tr>\n",
       "      <td>4</td>\n",
       "      <td>standard</td>\n",
       "    </tr>\n",
       "    <tr>\n",
       "      <td>...</td>\n",
       "      <td>...</td>\n",
       "    </tr>\n",
       "    <tr>\n",
       "      <td>513</td>\n",
       "      <td>free/reduced</td>\n",
       "    </tr>\n",
       "    <tr>\n",
       "      <td>514</td>\n",
       "      <td>standard</td>\n",
       "    </tr>\n",
       "    <tr>\n",
       "      <td>515</td>\n",
       "      <td>free/reduced</td>\n",
       "    </tr>\n",
       "    <tr>\n",
       "      <td>516</td>\n",
       "      <td>standard</td>\n",
       "    </tr>\n",
       "    <tr>\n",
       "      <td>517</td>\n",
       "      <td>free/reduced</td>\n",
       "    </tr>\n",
       "  </tbody>\n",
       "</table>\n",
       "<p>518 rows × 1 columns</p>\n",
       "</div>"
      ],
      "text/plain": [
       "                0\n",
       "0        standard\n",
       "1        standard\n",
       "2        standard\n",
       "3        standard\n",
       "4        standard\n",
       "..            ...\n",
       "513  free/reduced\n",
       "514      standard\n",
       "515  free/reduced\n",
       "516      standard\n",
       "517  free/reduced\n",
       "\n",
       "[518 rows x 1 columns]"
      ]
     },
     "execution_count": 18,
     "metadata": {},
     "output_type": "execute_result"
    }
   ],
   "source": [
    "results = engine.execute(\"\"\"\n",
    "\n",
    "SELECT lunch\n",
    "FROM StudentPerformance\n",
    "WHERE gender = 'female'\n",
    "\n",
    "\"\"\").fetchall()\n",
    "\n",
    "df_filtered = pd.DataFrame(results)\n",
    "df_filtered"
   ]
  },
  {
   "cell_type": "code",
   "execution_count": null,
   "metadata": {},
   "outputs": [],
   "source": []
  }
 ],
 "metadata": {
  "kernelspec": {
   "display_name": "Python 3",
   "language": "python",
   "name": "python3"
  },
  "language_info": {
   "codemirror_mode": {
    "name": "ipython",
    "version": 3
   },
   "file_extension": ".py",
   "mimetype": "text/x-python",
   "name": "python",
   "nbconvert_exporter": "python",
   "pygments_lexer": "ipython3",
   "version": "3.7.4"
  },
  "latex_envs": {
   "LaTeX_envs_menu_present": true,
   "autoclose": false,
   "autocomplete": true,
   "bibliofile": "biblio.bib",
   "cite_by": "apalike",
   "current_citInitial": 1,
   "eqLabelWithNumbers": true,
   "eqNumInitial": 1,
   "hotkeys": {
    "equation": "Ctrl-E",
    "itemize": "Ctrl-I"
   },
   "labels_anchors": false,
   "latex_user_defs": false,
   "report_style_numbering": false,
   "user_envs_cfg": false
  }
 },
 "nbformat": 4,
 "nbformat_minor": 4
}
