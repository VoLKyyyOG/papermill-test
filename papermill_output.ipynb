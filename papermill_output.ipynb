{
 "cells": [
  {
   "cell_type": "code",
   "execution_count": 1,
   "metadata": {
    "ExecuteTime": {
     "end_time": "2020-02-21T05:04:28.391133Z",
     "start_time": "2020-02-21T05:04:28.388109Z"
    },
    "papermill": {
     "duration": 0.010027,
     "end_time": "2020-02-21T05:04:54.618073",
     "exception": false,
     "start_time": "2020-02-21T05:04:54.608046",
     "status": "completed"
    },
    "tags": [
     "parameters"
    ]
   },
   "outputs": [],
   "source": [
    "# the paremeters section\n",
    "gender = \"male\"\n",
    "edu = \"bachelor's degree\""
   ]
  },
  {
   "cell_type": "code",
   "execution_count": 2,
   "metadata": {
    "papermill": {
     "duration": 0.011517,
     "end_time": "2020-02-21T05:04:54.634129",
     "exception": false,
     "start_time": "2020-02-21T05:04:54.622612",
     "status": "completed"
    },
    "tags": [
     "injected-parameters"
    ]
   },
   "outputs": [],
   "source": [
    "# Parameters\n",
    "gender = \"male\"\n",
    "edu = \"some college\"\n"
   ]
  },
  {
   "cell_type": "code",
   "execution_count": 3,
   "metadata": {
    "ExecuteTime": {
     "end_time": "2020-02-21T05:04:29.156222Z",
     "start_time": "2020-02-21T05:04:28.392099Z"
    },
    "papermill": {
     "duration": 0.760169,
     "end_time": "2020-02-21T05:04:55.398269",
     "exception": false,
     "start_time": "2020-02-21T05:04:54.638100",
     "status": "completed"
    },
    "tags": []
   },
   "outputs": [],
   "source": [
    "# library imports\n",
    "import pandas as pd\n",
    "import matplotlib.pyplot as plt\n",
    "import seaborn as sns\n",
    "\n",
    "# get urls to download\n",
    "import requests\n",
    "\n",
    "# logging to raise warnings/errors within jupyter, zipfile to unzip downloads\n",
    "import os\n",
    "import logging\n",
    "import zipfile\n",
    "\n",
    "# constat which can be changed\n",
    "DATA_URL = \"https://www.kaggle.com/spscientist/students-performance-in-exams/download\""
   ]
  },
  {
   "cell_type": "code",
   "execution_count": 4,
   "metadata": {
    "ExecuteTime": {
     "end_time": "2020-02-21T05:04:29.162134Z",
     "start_time": "2020-02-21T05:04:29.157138Z"
    },
    "papermill": {
     "duration": 0.012966,
     "end_time": "2020-02-21T05:04:55.416222",
     "exception": false,
     "start_time": "2020-02-21T05:04:55.403256",
     "status": "completed"
    },
    "tags": []
   },
   "outputs": [],
   "source": [
    "def download(url, fname):\n",
    "    print(f\"==================== Start Download ====================\")\n",
    "    print(f\"url     = {url}\")\n",
    "    print(f\"save_to = {fname}\")\n",
    "    \n",
    "    r = requests.get(url)\n",
    "    \n",
    "    if os.path.exists(fname):\n",
    "        logging.warning(\"File already exists and was not redownloaded!\")\n",
    "        return\n",
    "    \n",
    "    # output to file\n",
    "    with open(fname, 'wb') as f:\n",
    "        f.write(r.content)\n",
    "        \n",
    "def unzip(folder=\"data/\"):\n",
    "    print(f\"==================== Start Unzip ====================\")\n",
    "    try:\n",
    "        # looks for zips in the data folder\n",
    "        fnames = [k[0] for i, j ,k in os.walk(folder) if '.zip' in k[0]]\n",
    "    except IndexError:\n",
    "        logging.warning(\"No zip files to unzip\")\n",
    "        return\n",
    "    \n",
    "    # for each zip file, extract all contents\n",
    "    for fname in fnames:\n",
    "        print(f\"fname   = {fname}\")\n",
    "        with zipfile.ZipFile(folder + fname, 'r') as zip_ref:\n",
    "            zip_ref.extractall(folder)\n",
    "    print(f\"Unzipped a total of {len(fnames)} file(s). {[i for i in os.listdir('./data') if not '.zip' in i]}\")"
   ]
  },
  {
   "cell_type": "code",
   "execution_count": 5,
   "metadata": {
    "ExecuteTime": {
     "end_time": "2020-02-21T05:04:29.845271Z",
     "start_time": "2020-02-21T05:04:29.163094Z"
    },
    "papermill": {
     "duration": 0.566996,
     "end_time": "2020-02-21T05:04:55.987206",
     "exception": false,
     "start_time": "2020-02-21T05:04:55.420210",
     "status": "completed"
    },
    "tags": []
   },
   "outputs": [
    {
     "name": "stdout",
     "output_type": "stream",
     "text": [
      "==================== Start Download ====================\n",
      "url     = https://www.kaggle.com/spscientist/students-performance-in-exams/download\n",
      "save_to = data/students-performance-in-exams.zip\n"
     ]
    },
    {
     "name": "stderr",
     "output_type": "stream",
     "text": [
      "WARNING:root:File already exists and was not redownloaded!\n"
     ]
    },
    {
     "name": "stdout",
     "output_type": "stream",
     "text": [
      "==================== Start Unzip ====================\n",
      "fname   = students-performance-in-exams.zip\n",
      "Unzipped a total of 1 file(s). ['StudentsPerformance.csv']\n"
     ]
    }
   ],
   "source": [
    "# run scripts\n",
    "download(DATA_URL, 'data/students-performance-in-exams.zip')\n",
    "unzip()"
   ]
  },
  {
   "cell_type": "code",
   "execution_count": 6,
   "metadata": {
    "ExecuteTime": {
     "end_time": "2020-02-21T05:04:29.868816Z",
     "start_time": "2020-02-21T05:04:29.847244Z"
    },
    "papermill": {
     "duration": 0.024562,
     "end_time": "2020-02-21T05:04:56.017753",
     "exception": false,
     "start_time": "2020-02-21T05:04:55.993191",
     "status": "completed"
    },
    "tags": []
   },
   "outputs": [
    {
     "data": {
      "text/html": [
       "<div>\n",
       "<style scoped>\n",
       "    .dataframe tbody tr th:only-of-type {\n",
       "        vertical-align: middle;\n",
       "    }\n",
       "\n",
       "    .dataframe tbody tr th {\n",
       "        vertical-align: top;\n",
       "    }\n",
       "\n",
       "    .dataframe thead th {\n",
       "        text-align: right;\n",
       "    }\n",
       "</style>\n",
       "<table border=\"1\" class=\"dataframe\">\n",
       "  <thead>\n",
       "    <tr style=\"text-align: right;\">\n",
       "      <th></th>\n",
       "      <th>gender</th>\n",
       "      <th>race/ethnicity</th>\n",
       "      <th>parental level of education</th>\n",
       "      <th>lunch</th>\n",
       "      <th>test preparation course</th>\n",
       "      <th>math score</th>\n",
       "      <th>reading score</th>\n",
       "      <th>writing score</th>\n",
       "    </tr>\n",
       "  </thead>\n",
       "  <tbody>\n",
       "    <tr>\n",
       "      <td>0</td>\n",
       "      <td>female</td>\n",
       "      <td>group B</td>\n",
       "      <td>bachelor's degree</td>\n",
       "      <td>standard</td>\n",
       "      <td>none</td>\n",
       "      <td>72</td>\n",
       "      <td>72</td>\n",
       "      <td>74</td>\n",
       "    </tr>\n",
       "    <tr>\n",
       "      <td>1</td>\n",
       "      <td>female</td>\n",
       "      <td>group C</td>\n",
       "      <td>some college</td>\n",
       "      <td>standard</td>\n",
       "      <td>completed</td>\n",
       "      <td>69</td>\n",
       "      <td>90</td>\n",
       "      <td>88</td>\n",
       "    </tr>\n",
       "    <tr>\n",
       "      <td>2</td>\n",
       "      <td>female</td>\n",
       "      <td>group B</td>\n",
       "      <td>master's degree</td>\n",
       "      <td>standard</td>\n",
       "      <td>none</td>\n",
       "      <td>90</td>\n",
       "      <td>95</td>\n",
       "      <td>93</td>\n",
       "    </tr>\n",
       "    <tr>\n",
       "      <td>3</td>\n",
       "      <td>male</td>\n",
       "      <td>group A</td>\n",
       "      <td>associate's degree</td>\n",
       "      <td>free/reduced</td>\n",
       "      <td>none</td>\n",
       "      <td>47</td>\n",
       "      <td>57</td>\n",
       "      <td>44</td>\n",
       "    </tr>\n",
       "    <tr>\n",
       "      <td>4</td>\n",
       "      <td>male</td>\n",
       "      <td>group C</td>\n",
       "      <td>some college</td>\n",
       "      <td>standard</td>\n",
       "      <td>none</td>\n",
       "      <td>76</td>\n",
       "      <td>78</td>\n",
       "      <td>75</td>\n",
       "    </tr>\n",
       "  </tbody>\n",
       "</table>\n",
       "</div>"
      ],
      "text/plain": [
       "   gender race/ethnicity parental level of education         lunch  \\\n",
       "0  female        group B           bachelor's degree      standard   \n",
       "1  female        group C                some college      standard   \n",
       "2  female        group B             master's degree      standard   \n",
       "3    male        group A          associate's degree  free/reduced   \n",
       "4    male        group C                some college      standard   \n",
       "\n",
       "  test preparation course  math score  reading score  writing score  \n",
       "0                    none          72             72             74  \n",
       "1               completed          69             90             88  \n",
       "2                    none          90             95             93  \n",
       "3                    none          47             57             44  \n",
       "4                    none          76             78             75  "
      ]
     },
     "execution_count": 6,
     "metadata": {},
     "output_type": "execute_result"
    }
   ],
   "source": [
    "# load in dataset\n",
    "data = pd.read_csv(\"data/StudentsPerformance.csv\")\n",
    "data.head()"
   ]
  },
  {
   "cell_type": "code",
   "execution_count": 7,
   "metadata": {
    "ExecuteTime": {
     "end_time": "2020-02-21T05:04:29.874799Z",
     "start_time": "2020-02-21T05:04:29.869813Z"
    },
    "papermill": {
     "duration": 0.013963,
     "end_time": "2020-02-21T05:04:56.036703",
     "exception": false,
     "start_time": "2020-02-21T05:04:56.022740",
     "status": "completed"
    },
    "tags": []
   },
   "outputs": [],
   "source": [
    "# filter df given specified params via papermill\n",
    "schedule = data.loc[data['gender'] == gender].loc[data['parental level of education'] == edu]"
   ]
  },
  {
   "cell_type": "code",
   "execution_count": 8,
   "metadata": {
    "ExecuteTime": {
     "end_time": "2020-02-21T05:04:30.296568Z",
     "start_time": "2020-02-21T05:04:29.876796Z"
    },
    "papermill": {
     "duration": 0.428199,
     "end_time": "2020-02-21T05:04:56.469889",
     "exception": false,
     "start_time": "2020-02-21T05:04:56.041690",
     "status": "completed"
    },
    "tags": []
   },
   "outputs": [
    {
     "data": {
      "image/png": "[encoded data removed]",
      "text/plain": [
       "<Figure size 432x288 with 1 Axes>"
      ]
     },
     "metadata": {
      "needs_background": "light"
     },
     "output_type": "display_data"
    },
    {
     "data": {
      "image/png": "[encoded data removed]",
      "text/plain": [
       "<Figure size 432x288 with 1 Axes>"
      ]
     },
     "metadata": {
      "needs_background": "light"
     },
     "output_type": "display_data"
    },
    {
     "data": {
      "image/png": "[encoded data removed]",
      "text/plain": [
       "<Figure size 432x288 with 1 Axes>"
      ]
     },
     "metadata": {
      "needs_background": "light"
     },
     "output_type": "display_data"
    }
   ],
   "source": [
    "# iteratively create 3 plots given filtered data\n",
    "for result in (\"math score\", \"reading score\", \"writing score\"):\n",
    "    sns.distplot(schedule[result])\n",
    "    \n",
    "    # plot aethetics\n",
    "    plt.title(f\"{gender.title()}'s who have {edu}\")\n",
    "    plt.xlabel(result.title())\n",
    "    \n",
    "    # save plot as jpg for report\n",
    "    plt.savefig(f\"reports/plots/{result}.jpg\")\n",
    "    \n",
    "    # display coz why not\n",
    "    plt.show()"
   ]
  },
  {
   "cell_type": "code",
   "execution_count": 9,
   "metadata": {
    "ExecuteTime": {
     "end_time": "2020-02-21T05:04:30.303548Z",
     "start_time": "2020-02-21T05:04:30.297596Z"
    },
    "papermill": {
     "duration": 0.017931,
     "end_time": "2020-02-21T05:04:56.495820",
     "exception": false,
     "start_time": "2020-02-21T05:04:56.477889",
     "status": "completed"
    },
    "tags": []
   },
   "outputs": [],
   "source": [
    "# import time to get the current date this report was generated\n",
    "import pytz, datetime\n",
    "tzone = pytz.timezone(f'Australia/Melbourne')\n",
    "time = datetime.datetime.now(tzone).strftime(\"%d/%m/%Y\")\n",
    "\n",
    "# html template\n",
    "report_template = f'''\n",
    "<!DOCTYPE html>\n",
    "    <html>\n",
    "      <head>\n",
    "        <meta charset='utf-8'>\n",
    "        <title>Papermill test using some basic data</title>\n",
    "        <link rel='stylesheet' href='report.css'>\n",
    "          <style>\n",
    "          h1 {{\n",
    "          font-family: Arial;\n",
    "          font-size: 300%;\n",
    "          }}\n",
    "          h2 {{\n",
    "          font-family: Arial;\n",
    "          font-size: 200%;\n",
    "          }}\n",
    "          @page {{\n",
    "          size: 7in 9.25in;\n",
    "          margin: 27mm 16mm 27mm 16mm;\n",
    "          }}\n",
    "          </style>                       \n",
    "      </head>\n",
    "      <h2 align=\"center\">Results for {gender} with {edu}</h1>\n",
    "      <h3 align=\"center\">Today's date: {time}</h2>\n",
    "        \n",
    "      <figure>\n",
    "        <p style=\"text-align:center;\"><img src=\"./plots/math score.jpg\">\n",
    "      </figure>\n",
    "      <figure>\n",
    "        <p style=\"text-align:center;\"><img src=\"./plots/reading score.jpg\">\n",
    "      </figure>            \n",
    "      <figure>\n",
    "        <p style=\"text-align:center;\"><img src=\"./plots/writing score.jpg\">\n",
    "      </figure>   \n",
    "    </html>\n",
    "'''"
   ]
  },
  {
   "cell_type": "code",
   "execution_count": 10,
   "metadata": {
    "ExecuteTime": {
     "end_time": "2020-02-21T05:04:30.778204Z",
     "start_time": "2020-02-21T05:04:30.304546Z"
    },
    "papermill": {
     "duration": 0.485911,
     "end_time": "2020-02-21T05:04:56.988711",
     "exception": false,
     "start_time": "2020-02-21T05:04:56.502800",
     "status": "completed"
    },
    "tags": []
   },
   "outputs": [
    {
     "name": "stdout",
     "output_type": "stream",
     "text": [
      "Loading pages (1/6)\r\n",
      "[>                                                           ] 0%\r",
      "[======>                                                     ] 10%\r",
      "[======>                                                     ] 11%\r",
      "Warning: Failed to load file:///C:/Users/akira/Documents/GitHub/papermill-test/reports/report.css (ignore)\r\n",
      "[=============>                                              ] 22%\r",
      "[===================>                                        ] 33%\r",
      "[=========================>                                  ] 43%\r",
      "[============================================================] 100%\r",
      "Counting pages (2/6)                                               \r\n",
      "[============================================================] Object 1 of 1\r",
      "Resolving links (4/6)                                                       \r\n",
      "[============================================================] Object 1 of 1\r",
      "Loading headers and footers (5/6)                                           \r\n",
      "Printing pages (6/6)\r\n",
      "[>                                                           ] Preparing\r",
      "[============================================================] Page 1 of 1\r",
      "Done                                                                      \r\n"
     ]
    },
    {
     "data": {
      "text/plain": [
       "True"
      ]
     },
     "execution_count": 10,
     "metadata": {},
     "output_type": "execute_result"
    }
   ],
   "source": [
    "# output to html\n",
    "html_report = f\"reports/{gender}_{edu}_report.html\"\n",
    "with open(html_report, \"w\") as r:\n",
    "    r.write(report_template)\n",
    "\n",
    "# convert html to pdf\n",
    "import pdfkit\n",
    "pdfkit.from_file(html_report, html_report.replace(\"html\",\"pdf\"))"
   ]
  }
 ],
 "metadata": {
  "celltoolbar": "Tags",
  "kernelspec": {
   "display_name": "Python 3",
   "language": "python",
   "name": "python3"
  },
  "language_info": {
   "codemirror_mode": {
    "name": "ipython",
    "version": 3
   },
   "file_extension": ".py",
   "mimetype": "text/x-python",
   "name": "python",
   "nbconvert_exporter": "python",
   "pygments_lexer": "ipython3",
   "version": "3.6.10"
  },
  "latex_envs": {
   "LaTeX_envs_menu_present": true,
   "autoclose": false,
   "autocomplete": true,
   "bibliofile": "biblio.bib",
   "cite_by": "apalike",
   "current_citInitial": 1,
   "eqLabelWithNumbers": true,
   "eqNumInitial": 1,
   "hotkeys": {
    "equation": "Ctrl-E",
    "itemize": "Ctrl-I"
   },
   "labels_anchors": false,
   "latex_user_defs": false,
   "report_style_numbering": false,
   "user_envs_cfg": false
  },
  "papermill": {
   "duration": 3.423706,
   "end_time": "2020-02-21T05:04:57.303940",
   "environment_variables": {},
   "exception": null,
   "input_path": "papermill.ipynb",
   "output_path": "papermill_output.ipynb",
   "parameters": {
    "edu": "some college",
    "gender": "male"
   },
   "start_time": "2020-02-21T05:04:53.880234",
   "version": "1.2.1"
  }
 },
 "nbformat": 4,
 "nbformat_minor": 4
}